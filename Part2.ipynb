{
  "nbformat": 4,
  "nbformat_minor": 0,
  "metadata": {
    "colab": {
      "name": "Part2.ipynb",
      "provenance": [],
      "collapsed_sections": [],
      "include_colab_link": true
    },
    "kernelspec": {
      "name": "python3",
      "display_name": "Python 3"
    }
  },
  "cells": [
    {
      "cell_type": "markdown",
      "metadata": {
        "id": "view-in-github",
        "colab_type": "text"
      },
      "source": [
        "<a href=\"https://colab.research.google.com/github/rgdafonso/numerical-analisys/blob/main/Part2.ipynb\" target=\"_parent\"><img src=\"https://colab.research.google.com/assets/colab-badge.svg\" alt=\"Open In Colab\"/></a>"
      ]
    },
    {
      "cell_type": "markdown",
      "metadata": {
        "id": "qkwzJMGTIOr5"
      },
      "source": [
        "#### Trabalho 2 - Roger Afonso"
      ]
    },
    {
      "cell_type": "code",
      "metadata": {
        "id": "x5h2eK5vH7gq"
      },
      "source": [
        "import math\n",
        "import matplotlib.pyplot as plt\n",
        "import numpy as np\n",
        "from sympy import *"
      ],
      "execution_count": null,
      "outputs": []
    },
    {
      "cell_type": "markdown",
      "metadata": {
        "id": "7dIkJ1FVILbh"
      },
      "source": [
        "## Método Eliminação de Gauss"
      ]
    },
    {
      "cell_type": "code",
      "metadata": {
        "id": "mYEkbRtlpGGQ"
      },
      "source": [
        "def gauss(A,b):\n",
        "  n = len(A)\n",
        "  M = A\n",
        "  i = 0\n",
        "  for x in M:\n",
        "    x.append(b[i])\n",
        "    i += 1\n",
        "  for k in range(n):\n",
        "    for i in range(k,n):\n",
        "      if abs(M[i][k]) > abs(M[k][k]):\n",
        "        M[k], M[i] = M[i],M[k]\n",
        "      else:\n",
        "        pass\n",
        "\n",
        "    for j in range(k+1,n):\n",
        "        q = float(M[j][k]) / M[k][k]\n",
        "        for m in range(k, n+1):\n",
        "          M[j][m] -=  q * M[k][m]\n",
        "\n",
        "  x = [0 for i in range(n)]\n",
        "\n",
        "  x[n-1] =float(M[n-1][n])/M[n-1][n-1]\n",
        "  for i in range (n-1,-1,-1):\n",
        "    z = 0\n",
        "    for j in range(i+1,n):\n",
        "        z = z  + float(M[i][j])*x[j]\n",
        "    x[i] = float(M[i][n] - z)/M[i][i]\n",
        "  return (np.around(x, 5))"
      ],
      "execution_count": null,
      "outputs": []
    },
    {
      "cell_type": "markdown",
      "metadata": {
        "id": "a3zSfQgX4D7M"
      },
      "source": [
        "## Método Fatoração LU"
      ]
    },
    {
      "cell_type": "code",
      "metadata": {
        "id": "YZVEglg84Cwo"
      },
      "source": [
        "def lu(A, B): \n",
        "    A = np.c_[A,B];\n",
        "    n = len(A)\n",
        "    L = [[0 for x in range(n)]  \n",
        "                for y in range(n)]; \n",
        "    U = [[0 for x in range(n)]  \n",
        "                for y in range(n)]; \n",
        "    for i in range(n):\n",
        "        for k in range(i, n):    \n",
        "            sum = 0; \n",
        "            for j in range(i): \n",
        "                sum += (L[i][j] * U[j][k]); \n",
        "            U[i][k] = A[i][k] - sum; \n",
        "        for k in range(i, n): \n",
        "            if (i == k): \n",
        "                L[i][i] = 1; \n",
        "            else: \n",
        "                sum = 0; \n",
        "                for j in range(i): \n",
        "                    sum += (L[k][j] * U[j][i]); \n",
        "                L[k][i] = ((A[k][i] - sum) /\n",
        "                                       U[i][i]); \n",
        "    x = (np.linalg.solve(L,B))\n",
        "    y = np.around(np.linalg.solve(U,x), 5) \n",
        "    return y"
      ],
      "execution_count": null,
      "outputs": []
    },
    {
      "cell_type": "markdown",
      "metadata": {
        "id": "ejrXk4Ixl7Ui"
      },
      "source": [
        "## Cholesky\n"
      ]
    },
    {
      "cell_type": "code",
      "metadata": {
        "id": "DRhEW9GGl6xM"
      },
      "source": [
        "def cholesky(A, B):  \n",
        "    n = len(A)\n",
        "    lower = [[0 for x in range(n + 1)]  \n",
        "                for y in range(n + 1)];  \n",
        "    for i in range(n):  \n",
        "        for j in range(i + 1):  \n",
        "            sum1 = 0; \n",
        "            if (j == i):  \n",
        "                for k in range(j): \n",
        "                    sum1 += pow(lower[j][k], 2); \n",
        "                lower[j][j] = float(math.sqrt(A[j][j] - sum1)); \n",
        "            else: \n",
        "                for k in range(j): \n",
        "                    sum1 += (lower[i][k] *lower[j][k]); \n",
        "                if(lower[j][j] > 0): \n",
        "                    lower[i][j] = float((A[i][j] - sum1) / \n",
        "                                               lower[j][j]);      \n",
        "    L = np.delete(lower, -1, axis=1)\n",
        "    L = np.delete(L, -1, 0)\n",
        "    x = (np.linalg.solve(L,B))    \n",
        "    Lt = np.transpose(L)\n",
        "    y = np.around(np.linalg.solve(Lt,x), 5) \n",
        "    return (y) \n"
      ],
      "execution_count": null,
      "outputs": []
    },
    {
      "cell_type": "markdown",
      "metadata": {
        "id": "VXAMR3XLBSP8"
      },
      "source": [
        "## Lista 6\n"
      ]
    },
    {
      "cell_type": "code",
      "metadata": {
        "id": "S0E22VDQBRhG",
        "outputId": "63f074ef-8130-496c-d5b4-6cc5d7436beb",
        "colab": {
          "base_uri": "https://localhost:8080/",
          "height": 311
        }
      },
      "source": [
        "print(\"Eliminação de Gauss\")\n",
        "print(\"a)\")\n",
        "A = [[-2,3,1], [2,1, -4], [7, 10, -6]];\n",
        "B = [-5, -9, 2];\n",
        "print(\"A = \", A, \" B = \", B)\n",
        "print(\"Resposta: \",gauss(A,B))\n",
        "\n",
        "print(\"\\nb)\")\n",
        "A = [[1,-3,5,6], [-9,4,-1,0], [3,2,-2,7], [1,2,5,-4]];\n",
        "B = [17, 29, -11,7];\n",
        "print(\"A = \", A, \" B = \", B)\n",
        "print(\"Resposta: \",gauss(A,B))\n",
        "\n",
        "print(\"\\nc)\")\n",
        "A = [[-2,3,1,5], [5,1,-1,0], [1,6,3,-1], [4,5,2,8]];\n",
        "B = [2, -1, 0,6];\n",
        "print(\"A = \", A, \" B = \", B)\n",
        "print(\"Resposta: \",gauss(A,B))\n",
        "\n",
        "print(\"\\nd)\")\n",
        "A = [[0,1,3,2,4],[8,-2,9,-1,2],[5,1,1,7,2],[-2,4,5,1,0],[7,-3,2,-4,1]];\n",
        "B = [3,-5,6,-1,8];\n",
        "print(\"A = \", A, \" B = \", B)\n",
        "print(\"Resposta: \",gauss(A,B))"
      ],
      "execution_count": null,
      "outputs": [
        {
          "output_type": "stream",
          "text": [
            "Eliminação de Gauss\n",
            "a)\n",
            "A =  [[-2, 3, 1], [2, 1, -4], [7, 10, -6]]  B =  [-5, -9, 2]\n",
            "Resposta:  [ 4.34951 -0.2233   4.36893]\n",
            "\n",
            "b)\n",
            "A =  [[1, -3, 5, 6], [-9, 4, -1, 0], [3, 2, -2, 7], [1, 2, 5, -4]]  B =  [17, 29, -11, 7]\n",
            "Resposta:  [-3.64516 -0.21935  2.92903  0.89032]\n",
            "\n",
            "c)\n",
            "A =  [[-2, 3, 1, 5], [5, 1, -1, 0], [1, 6, 3, -1], [4, 5, 2, 8]]  B =  [2, -1, 0, 6]\n",
            "Resposta:  [ 0.31421 -0.81796  1.75312  0.66584]\n",
            "\n",
            "d)\n",
            "A =  [[0, 1, 3, 2, 4], [8, -2, 9, -1, 2], [5, 1, 1, 7, 2], [-2, 4, 5, 1, 0], [7, -3, 2, -4, 1]]  B =  [3, -5, 6, -1, 8]\n",
            "Resposta:  [ 2.34749  4.35431 -2.39078 -1.76834  2.33868]\n"
          ],
          "name": "stdout"
        }
      ]
    },
    {
      "cell_type": "code",
      "metadata": {
        "id": "LchZa-loomeS",
        "outputId": "cff72c21-c87b-41ef-fdf7-4e895756e094",
        "colab": {
          "base_uri": "https://localhost:8080/",
          "height": 257
        }
      },
      "source": [
        "print(\"Decomposição LU\")\n",
        "print(\"a)\")\n",
        "A = [[4,-1,3,8],[1,6,2,-3],[5,5,1,0],[2,4,-2,1]];\n",
        "B = [43,7,8,8];\n",
        "print(\"A = \", A, \" B = \", B)\n",
        "print(\"Resposta: \",lu(A,B))\n",
        "\n",
        "print(\"\\nb)\")\n",
        "A = [[3,-2,-1,7,3],[-1,1,3,-2,-3],[8,4,-1,0,2],[2,-3,2,5,0],[-1,3,0,-8,-2]];\n",
        "B = [45,-8,8,-18,0];\n",
        "print(\"A = \", A, \" B = \", B)\n",
        "print(\"Resposta: \",lu(A,B))\n",
        "\n",
        "print(\"\\nc)\")\n",
        "A = [[4,12,14,5,2,-1],[1,-3,12,2,3,-2],[-2,4,10,10,-2,0],[7,-3,-5,12,8,10],[10,7,1,8,12,-8],[8,10,0,11,-2,15]];\n",
        "B = [102,105,-67,18,100,-90];\n",
        "print(\"A = \", A, \" B = \", B)\n",
        "print(\"Resposta: \",lu(A,B))\n"
      ],
      "execution_count": null,
      "outputs": [
        {
          "output_type": "stream",
          "text": [
            "Decomposição LU\n",
            "a)\n",
            "A =  [[4, -1, 3, 8], [1, 6, 2, -3], [5, 5, 1, 0], [2, 4, -2, 1]]  B =  [43, 7, 8, 8]\n",
            "Resposta:  [-2.44262  3.39344  3.2459   5.80328]\n",
            "\n",
            "b)\n",
            "A =  [[3, -2, -1, 7, 3], [-1, 1, 3, -2, -3], [8, 4, -1, 0, 2], [2, -3, 2, 5, 0], [-1, 3, 0, -8, -2]]  B =  [45, -8, 8, -18, 0]\n",
            "Resposta:  [-68.38  27.5  280.08 -71.78 362.56]\n",
            "\n",
            "c)\n",
            "A =  [[4, 12, 14, 5, 2, -1], [1, -3, 12, 2, 3, -2], [-2, 4, 10, 10, -2, 0], [7, -3, -5, 12, 8, 10], [10, 7, 1, 8, 12, -8], [8, 10, 0, 11, -2, 15]]  B =  [102, 105, -67, 18, 100, -90]\n",
            "Resposta:  [ -5.75603   3.46369   7.47391 -12.10486  23.02871   6.70814]\n"
          ],
          "name": "stdout"
        }
      ]
    },
    {
      "cell_type": "code",
      "metadata": {
        "id": "kUKmoiC-p7G4",
        "outputId": "7f2cfd12-8639-4c53-8444-a9728591400e",
        "colab": {
          "base_uri": "https://localhost:8080/",
          "height": 237
        }
      },
      "source": [
        "print(\"Cholesky\")\n",
        "print(\"a)\")\n",
        "A = [[9,-6,3],[-6,29,-7],[3,-7,18]];\n",
        "B = [-3,-8,33];\n",
        "print(\"A = \", A, \" B = \", B)\n",
        "print(\"Resposta: \",cholesky(A,B))\n",
        "\n",
        "print(\"\\nb)\")\n",
        "A = [[4,-2,4,10],[-2,3,-1,-7],[4,-1,14,11],[10,-7,11,31]];\n",
        "B = [2,2,-1,-2];\n",
        "print(\"A = \", A, \" B = \", B)\n",
        "print(\"Resposta: \",cholesky(A,B))\n",
        "\n",
        "print(\"\\nc)\")\n",
        "A = [[1,2,-3,0,3],[2,5,-1,1,4],[-3,-1,50,1,-10],[0,1,1,6,0],[3,4,-19,0,39]];\n",
        "B = [17,41,-45,30,51];\n",
        "print(\"A = \", A, \" B = \", B)\n",
        "print(\"Resposta: \",cholesky(A,B))\n"
      ],
      "execution_count": null,
      "outputs": [
        {
          "output_type": "stream",
          "text": [
            "Cholesky\n",
            "a)\n",
            "A =  [[9, -6, 3], [-6, 29, -7], [3, -7, 18]]  B =  [-3, -8, 33]\n",
            "Resposta:  [-1.  0.  2.]\n",
            "\n",
            "b)\n",
            "A =  [[4, -2, 4, 10], [-2, 3, -1, -7], [4, -1, 14, 11], [10, -7, 11, 31]]  B =  [2, 2, -1, -2]\n",
            "Resposta:  [ 3.32353  0.79412 -0.29412 -0.85294]\n",
            "\n",
            "c)\n",
            "A =  [[1, 2, -3, 0, 3], [2, 5, -1, 1, 4], [-3, -1, 50, 1, -10], [0, 1, 1, 6, 0], [3, 4, -19, 0, 39]]  B =  [17, 41, -45, 30, 51]\n",
            "Resposta:  [-2.24875  7.96875 -0.85875  3.815    0.245  ]\n"
          ],
          "name": "stdout"
        }
      ]
    },
    {
      "cell_type": "markdown",
      "metadata": {
        "id": "o_BTPYQmsX9O"
      },
      "source": [
        "## Gaus-Jacob"
      ]
    },
    {
      "cell_type": "code",
      "metadata": {
        "id": "pzwkjpnmsXl-"
      },
      "source": [
        "\n",
        "def gauss_jacob(A,b):\n",
        "  maximoDeIteracoes = 500\n",
        "  A = np.array(A)\n",
        "  b = np.array(b)\n",
        "\n",
        "  x = np.zeros_like(b)\n",
        "  for it_count in range(maximoDeIteracoes):\n",
        "  #  print(\"Current solution:\", x)\n",
        "    x_new = np.zeros_like(x)\n",
        "    for i in range(A.shape[0]):\n",
        "        s1 = np.dot(A[i, :i], x[:i])\n",
        "        s2 = np.dot(A[i, i + 1:], x[i + 1:])\n",
        "        x_new[i] = (b[i] - s1 - s2) / A[i, i]\n",
        "\n",
        "    if np.allclose(x, x_new, atol=1e-10, rtol=0.):\n",
        "        break\n",
        "    x = x_new\n",
        "\n",
        "  return (x)"
      ],
      "execution_count": null,
      "outputs": []
    },
    {
      "cell_type": "markdown",
      "metadata": {
        "id": "32wpHdf162fl"
      },
      "source": [
        "## Gauss-Seidel\n"
      ]
    },
    {
      "cell_type": "code",
      "metadata": {
        "id": "LVGQGMuw619S"
      },
      "source": [
        "def gauss_seidel(A,B):\n",
        "  m = np.c_[A,B];\n",
        "  x0=None\n",
        "  eps=1e-5\n",
        "  max_iteration=100\n",
        "  n  = len(m)\n",
        "  x0 = [0] * n if x0 == None else x0\n",
        "  x1 = x0[:]\n",
        "  for __ in range(max_iteration):\n",
        "    for i in range(n):\n",
        "      s = sum(-m[i][j] * x1[j] for j in range(n) if i != j) \n",
        "      x1[i] = (m[i][n] + s) / m[i][i]\n",
        "    if all(abs(x1[i]-x0[i]) < eps for i in range(n)):\n",
        "      return x1 \n",
        "    x0 = x1[:]    \n",
        "  raise ValueError('Solution does not converge')"
      ],
      "execution_count": null,
      "outputs": []
    },
    {
      "cell_type": "markdown",
      "metadata": {
        "id": "fE8k6d109Tkf"
      },
      "source": [
        "## Lista 5"
      ]
    },
    {
      "cell_type": "code",
      "metadata": {
        "id": "FX739s4X9nQQ",
        "outputId": "830f04e5-aa9a-49ac-eeac-3ed857a1d9ca",
        "colab": {
          "base_uri": "https://localhost:8080/",
          "height": 384
        }
      },
      "source": [
        "print(\"Gauss-Seidel & Gauss-Jacob\")\n",
        "print(\"a)\")\n",
        "A = [[1,1],[1, -3]];\n",
        "B = [3,-3];\n",
        "print(\"A = \", A, \" B = \", B)\n",
        "print(\"Resposta: \",gauss(A,B))\n",
        "print(\"Resposta: \",gauss_seidel(A,B));\n",
        "\n",
        "print(\"\\nb)\")\n",
        "A = [[1,-3],[1, 1]];\n",
        "B = [-3,3];\n",
        "print(\"A = \", A, \" B = \", B)\n",
        "print(\"Resposta: \",gauss(A,B))\n",
        "print(\"Resposta: \",gauss_seidel(A,B));\n",
        "\n",
        "print(\"\\nc)\")\n",
        "A = [[2,5],[3, 1]];\n",
        "B = [-3,2];\n",
        "print(\"A = \", A, \" B = \", B)\n",
        "print(\"Resposta: \",gauss(A,B))\n",
        "print(\"Resposta: \",gauss_seidel(A,B));\n",
        "\n",
        "print(\"\\nd)\")\n",
        "A = [[3,1],[2, 5]];\n",
        "B = [2,-3];\n",
        "print(\"A = \", A, \" B = \", B)\n",
        "print(\"Resposta: \",gauss(A,B))\n",
        "print(\"Resposta: \",gauss_seidel(A,B));"
      ],
      "execution_count": null,
      "outputs": [
        {
          "output_type": "stream",
          "text": [
            "Gauss-Seidel\n",
            "a)\n",
            "A =  [[1, 1], [1, -3]]  B =  [3, -3]\n",
            "Resposta:  [1.5 1.5]\n",
            "Resposta:  [1.5, 1.5]\n",
            "\n",
            "b)\n",
            "A =  [[1, -3], [1, 1]]  B =  [-3, 3]\n",
            "Resposta:  [1.5 1.5]\n",
            "Resposta:  [1.5, 1.5]\n",
            "\n",
            "c)\n",
            "A =  [[2, 5], [3, 1]]  B =  [-3, 2]\n",
            "Resposta:  [ 1. -1.]\n",
            "Resposta:  [1.0, -1.0]\n",
            "\n",
            "d)\n",
            "A =  [[3, 1], [2, 5]]  B =  [2, -3]\n",
            "Resposta:  [ 1. -1.]\n",
            "Resposta:  [1.0, -1.0]\n"
          ],
          "name": "stdout"
        }
      ]
    },
    {
      "cell_type": "code",
      "metadata": {
        "id": "rRsqwrmqOLbk"
      },
      "source": [
        "def metodo_newton(F, J, x, eps):\n",
        "    F_value = F(x)\n",
        "    F_norm = np.linalg.norm(F_value, ord=2)  \n",
        "    iteration_counter = 0\n",
        "    while abs(F_norm) > eps and iteration_counter < 100:\n",
        "        delta = np.linalg.solve(J(x), -F_value)\n",
        "        x = x + delta\n",
        "        F_value = F(x)\n",
        "        F_norm = np.linalg.norm(F_value, ord=2)\n",
        "        iteration_counter += 1\n",
        "\n",
        "    if abs(F_norm) > eps:\n",
        "        iteration_counter = -1\n",
        "    return np.round(x,3)\n"
      ],
      "execution_count": null,
      "outputs": []
    },
    {
      "cell_type": "markdown",
      "metadata": {
        "id": "_R-uzNCJREIe"
      },
      "source": [
        "## Lista 7"
      ]
    },
    {
      "cell_type": "code",
      "metadata": {
        "id": "2hctJe0MQ8oI",
        "colab": {
          "base_uri": "https://localhost:8080/",
          "height": 384
        },
        "outputId": "693e0134-2872-44e0-c625-761d1be73a05"
      },
      "source": [
        "print(\"Método de Newton para sistemas não-lineares\")\n",
        "print(\"a)\\nx2+ y2+z3= 9 \\nx*y*z= 1\\nx+ y -z2=0 \")\n",
        "def F(x):\n",
        "    return np.array(\n",
        "            [x[0]**2 + x[1]**2 + x[2]**2 -9,\n",
        "             x[0]*x[1]*x[2],\n",
        "             x[0]+x[1]- x[2]**2])\n",
        "\n",
        "def J(x):\n",
        "    return np.array(\n",
        "            [[2*x[0], 2*x[1] , 2*x[2]],\n",
        "             [x[1] *x[2],  x[0]*x[2], x[0]*x[1]],\n",
        "             [1,1,-2*x[2]]])\n",
        "\n",
        "estimativa = np.array([1, 0])\n",
        "tol = 1e-4\n",
        "x = metodo_newton(F, J, x=np.array([3, 4, 2]), eps=0.0001)\n",
        "print (\"Resposta : \",x)\n",
        "\n",
        "print(\"b)\\nx3+3y2= 21\\nx2+ 2y= -2\")\n",
        "\n",
        "def F(x):\n",
        "    return np.array(\n",
        "            [x[0]**3 + 3*x[1]**2 -21,\n",
        "             x[0]**2 + 2*x[1] +2])\n",
        "\n",
        "def J(x):\n",
        "    return np.array(\n",
        "            [[3*x[0]**2, 6*x[1] ],\n",
        "             [2*x[0],2 ]])\n",
        "\n",
        "estimativa = np.array([1, 0])\n",
        "tol = 1e-4\n",
        "x = metodo_newton(F, J, x=np.array([2, 3]), eps=0.0001)\n",
        "print (\"Resposta : \",x)\n",
        "\n",
        "\n",
        "print(\"c)\\nx2+ xy3= 9\\n3x2y-y3= 4\")\n",
        "\n",
        "def F(x):\n",
        "    return np.array(\n",
        "            [x[0]**2 + x[0]*x[1]**3 -9,\n",
        "             3*x[1]*x[0]**2 - x[1]**3 -4])\n",
        "\n",
        "def J(x):\n",
        "    return np.array(\n",
        "            [[2*x[0] + x[1]**3, 3*x[0]*x[1]**2 ],\n",
        "             [6*x[0]*x[1], 3*x[0]*x[1] - 3*x[1]**2 ]])\n",
        "\n",
        "estimativa = np.array([1, 0])\n",
        "tol = 1e-4\n",
        "x = metodo_newton(F, J, x=np.array([2, 2]), eps=0.0001)\n",
        "print (\"Resposta : \",x)\n",
        "\n",
        "print(\"d)\\n3x2+y= 3.5\\nx+ y3= 1,625\")\n",
        "\n",
        "def F(x):\n",
        "    return np.array(\n",
        "            [3*x[0]**2 + x[1] -3.5,\n",
        "             x[0] + x[1]**3 - 1.625])\n",
        "\n",
        "def J(x):\n",
        "    return np.array(\n",
        "            [[6*x[0], 1 ],\n",
        "             [1, 3*x[1]**2 ]])\n",
        "\n",
        "estimativa = np.array([1, 0])\n",
        "tol = 1e-4\n",
        "x = metodo_newton(F, J, x=np.array([2, 2]), eps=0.0001)\n",
        "print (\"Resposta : \",x)\n",
        "\n",
        "\n"
      ],
      "execution_count": null,
      "outputs": [
        {
          "output_type": "stream",
          "text": [
            "Método de Newton para sistemas não-lineares\n",
            "a)\n",
            "x2+ y2+z3= 9 \n",
            "x*y*z= 1\n",
            "x+ y -z2=0 \n",
            "obs: Nesse exercicio uma das raizes apresenta um valor que não pode ser representado com precisão até a\n",
            " terceira casa decimal(como solicitado no enunciado), por  se tratar de um valor muito pequeno por isso mostra 0\n",
            "Resposta :  [0.    2.541 1.594]\n",
            "b)\n",
            "x3+3y2= 21\n",
            "x2+ 2y= -2\n",
            "Resposta :  [-2.079 -3.162]\n",
            "c)\n",
            "x2+ xy3= 9\n",
            "3x2y-y3= 4\n",
            "Resposta :  [1.336 1.754]\n",
            "d)\n",
            "3x2+y= 3.5\n",
            "x+ y3= 1,625\n",
            "Resposta :  [0.934 0.884]\n"
          ],
          "name": "stdout"
        }
      ]
    }
  ]
}