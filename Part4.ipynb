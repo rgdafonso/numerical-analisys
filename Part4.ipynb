{
  "nbformat": 4,
  "nbformat_minor": 0,
  "metadata": {
    "colab": {
      "name": "Part4.ipynb",
      "provenance": [],
      "include_colab_link": true
    },
    "kernelspec": {
      "name": "python3",
      "display_name": "Python 3"
    }
  },
  "cells": [
    {
      "cell_type": "markdown",
      "metadata": {
        "id": "view-in-github",
        "colab_type": "text"
      },
      "source": [
        "<a href=\"https://colab.research.google.com/github/rgdafonso/numerical-analisys/blob/main/Part4.ipynb\" target=\"_parent\"><img src=\"https://colab.research.google.com/assets/colab-badge.svg\" alt=\"Open In Colab\"/></a>"
      ]
    },
    {
      "cell_type": "markdown",
      "metadata": {
        "id": "fM14AFThmFQm"
      },
      "source": [
        "###Trabalho 4\n",
        "Roger Afonso\n"
      ]
    },
    {
      "cell_type": "markdown",
      "metadata": {
        "id": "OMAPlL8lgKDw"
      },
      "source": [
        "### Imports\n"
      ]
    },
    {
      "cell_type": "code",
      "metadata": {
        "id": "gARIeIlrgJp1"
      },
      "source": [
        "import math\n",
        "import matplotlib.pyplot as plt\n",
        "import numpy as np\n",
        "from sympy import *"
      ],
      "execution_count": null,
      "outputs": []
    },
    {
      "cell_type": "markdown",
      "metadata": {
        "id": "2oAu7JSamc6v"
      },
      "source": [
        "### Trapézio Repetido"
      ]
    },
    {
      "cell_type": "code",
      "metadata": {
        "id": "4-rW2t_GmqGT"
      },
      "source": [
        "def Trapezoidal(f, a, b, n):\n",
        "    h = (b-a)/float(n)\n",
        "    s = 0.5*(f(a) + f(b))\n",
        "    for i in range(1,n,1):\n",
        "        s = s + f(a + i*h)\n",
        "    return h*s"
      ],
      "execution_count": null,
      "outputs": []
    },
    {
      "cell_type": "markdown",
      "metadata": {
        "id": "aG3pS5tEmkVt"
      },
      "source": [
        "### 1/3 de Simpson Repetida"
      ]
    },
    {
      "cell_type": "code",
      "metadata": {
        "id": "97JY97OJmq4e"
      },
      "source": [
        "def simpsons_1_3(f, a, b, n ): \n",
        "    h = ( b - a )/n \n",
        "    x = list() \n",
        "    fx = list() \n",
        "    i = 0\n",
        "    while i<= n: \n",
        "        x.append(a + i * h) \n",
        "        fx.append(f(x[i])) \n",
        "        i += 1  \n",
        "    res = 0\n",
        "    i = 0\n",
        "    while i<= n: \n",
        "        if i == 0 or i == n: \n",
        "            res+= fx[i] \n",
        "        elif i % 2 != 0: \n",
        "            res+= 4 * fx[i] \n",
        "        else: \n",
        "            res+= 2 * fx[i] \n",
        "        i+= 1\n",
        "    res = res * (h / 3) \n",
        "    return res \n",
        "\n"
      ],
      "execution_count": null,
      "outputs": []
    },
    {
      "cell_type": "markdown",
      "metadata": {
        "id": "j0-ibOnsmrU_"
      },
      "source": [
        "### 3/8 de Simpson Repetida"
      ]
    },
    {
      "cell_type": "code",
      "metadata": {
        "id": "pF8Cb2fJuOM7"
      },
      "source": [
        "def simpsons_3_8(f,a, b, n ):       \n",
        "    s = (float(b - a) / n) \n",
        "    sum = f(a) + f(b); \n",
        "    for i in range(1, n ): \n",
        "        if (i % 3 == 0): \n",
        "            sum = sum + 2 * f(a + i * s) \n",
        "        else: \n",
        "            sum = sum + 3 * f(a + i * s)       \n",
        "    return ((float( 3 * s) / 8 ) * sum ) "
      ],
      "execution_count": null,
      "outputs": []
    },
    {
      "cell_type": "markdown",
      "metadata": {
        "id": "yxXSErb7le7M"
      },
      "source": [
        "### Lista 11"
      ]
    },
    {
      "cell_type": "code",
      "metadata": {
        "id": "Cd8v3oUjlkLh",
        "outputId": "c3551cba-917a-4534-c14a-1fa36998778b",
        "colab": {
          "base_uri": "https://localhost:8080/",
          "height": 607
        }
      },
      "source": [
        "def f(x):\n",
        "  return x*math.log(x)\n",
        "a = 1;  b = 2\n",
        "n = 4\n",
        "resultTrapezoidal = Trapezoidal(f, a, b, n)\n",
        "resultSimpson1_3 = simpsons_1_3(f,a, b, n)\n",
        "resultSimpson3_8 = simpsons_3_8(f,a, b, n)\n",
        "print (\"a)\")\n",
        "print (\"Resultado Trapezio Repetido: \",resultTrapezoidal)\n",
        "print (\"Resultado 1/3 de Simpson Repetido: \",resultSimpson1_3)\n",
        "print (\"Resultado 3/8 de Simpson Repetido: \",resultSimpson3_8)\n",
        "#---------------------\n",
        "def f(x):\n",
        "  return (x**3)*math.exp(x)\n",
        "a = -2;  b = 2\n",
        "n = 4\n",
        "resultTrapezoidal = Trapezoidal(f, a, b, n)\n",
        "resultSimpson1_3 = simpsons_1_3(f,a, b, n)\n",
        "resultSimpson3_8 = simpsons_3_8(f,a, b, n)\n",
        "print (\"\\n\\nb)\")\n",
        "print (\"Resultado Trapezio Repetido: \",resultTrapezoidal)\n",
        "print (\"Resultado 1/3 de Simpson Repetido: \",resultSimpson1_3)\n",
        "print (\"Resultado 3/8 de Simpson Repetido: \",resultSimpson3_8)\n",
        "#---------------------\n",
        "def f(x):\n",
        "  return 2/(x**2 + 4)\n",
        "a = 0;  b = 2\n",
        "n = 6\n",
        "resultTrapezoidal = Trapezoidal(f, a, b, n)\n",
        "resultSimpson1_3 = simpsons_1_3(f,a, b, n)\n",
        "resultSimpson3_8 = simpsons_3_8(f,a, b, n)\n",
        "print (\"\\n\\nc)\")\n",
        "print (\"Resultado Trapezio Repetido: \",resultTrapezoidal)\n",
        "print (\"Resultado 1/3 de Simpson Repetido: \",resultSimpson1_3)\n",
        "print (\"Resultado 3/8 de Simpson Repetido: \",resultSimpson3_8)\n",
        "#---------------------\n",
        "def f(x):\n",
        "  return (x**2)*math.cos(x)\n",
        "a = 0;  b = 2\n",
        "n = 6\n",
        "resultTrapezoidal = Trapezoidal(f, a, b, n)\n",
        "resultSimpson1_3 = simpsons_1_3(f,a, b, n)\n",
        "resultSimpson3_8 = simpsons_3_8(f,a, b, n)\n",
        "print (\"\\n\\nd)\")\n",
        "print (\"Resultado Trapezio Repetido: \",resultTrapezoidal)\n",
        "print (\"Resultado 1/3 de Simpson Repetido: \",resultSimpson1_3)\n",
        "print (\"Resultado 3/8 de Simpson Repetido: \",resultSimpson3_8)\n",
        "#---------------------\n",
        "def f(x):\n",
        "  return math.exp(2*x)*math.sin(3*x)\n",
        "a = 0;  b = 2\n",
        "n = 8\n",
        "resultTrapezoidal = Trapezoidal(f, a, b, n)\n",
        "resultSimpson1_3 = simpsons_1_3(f,a, b, n)\n",
        "resultSimpson3_8 = simpsons_3_8(f,a, b, n)\n",
        "print (\"\\n\\ne)\")\n",
        "print (\"Resultado Trapezio Repetido: \",resultTrapezoidal)\n",
        "print (\"Resultado 1/3 de Simpson Repetido: \",resultSimpson1_3)\n",
        "print (\"Resultado 3/8 de Simpson Repetido: \",resultSimpson3_8)\n",
        "#---------------------\n",
        "def f(x):\n",
        "   return x/(x**2 + 4)\n",
        "a = 1;  b = 3\n",
        "n = 8\n",
        "resultTrapezoidal = Trapezoidal(f, a, b, n)\n",
        "resultSimpson1_3 = simpsons_1_3(f,a, b, n)\n",
        "resultSimpson3_8 = simpsons_3_8(f,a, b, n)\n",
        "print (\"\\n\\ne)\")\n",
        "print (\"Resultado Trapezio Repetido: \",resultTrapezoidal)\n",
        "print (\"Resultado 1/3 de Simpson Repetido: \",resultSimpson1_3)\n",
        "print (\"Resultado 3/8 de Simpson Repetido: \",resultSimpson3_8)"
      ],
      "execution_count": null,
      "outputs": [
        {
          "output_type": "stream",
          "text": [
            "a)\n",
            "Resultado Trapezio Repetido:  0.639900477687986\n",
            "Resultado 1/3 de Simpson Repetido:  0.6363098297969493\n",
            "Resultado 3/8 de Simpson Repetido:  0.5630935240133341\n",
            "\n",
            "\n",
            "b)\n",
            "Resultado Trapezio Repetido:  31.365285650063754\n",
            "Resultado 1/3 de Simpson Repetido:  22.477125358234236\n",
            "Resultado 3/8 de Simpson Repetido:  23.386009447108528\n",
            "\n",
            "\n",
            "c)\n",
            "Resultado Trapezio Repetido:  0.7842407666178157\n",
            "Resultado 1/3 de Simpson Repetido:  0.7853979452340107\n",
            "Resultado 3/8 de Simpson Repetido:  0.7853958624450428\n",
            "\n",
            "\n",
            "d)\n",
            "Resultado Trapezio Repetido:  0.1048628206250248\n",
            "Resultado 1/3 de Simpson Repetido:  0.15421938655911804\n",
            "Resultado 3/8 de Simpson Repetido:  0.15446959410642097\n",
            "\n",
            "\n",
            "e)\n",
            "Resultado Trapezio Repetido:  -13.575979391799388\n",
            "Resultado 1/3 de Simpson Repetido:  -14.183341561446696\n",
            "Resultado 3/8 de Simpson Repetido:  -13.044078086811808\n",
            "\n",
            "\n",
            "e)\n",
            "Resultado Trapezio Repetido:  0.4769768665147184\n",
            "Resultado 1/3 de Simpson Repetido:  0.47775464628479025\n",
            "Resultado 3/8 de Simpson Repetido:  0.47031072498263865\n"
          ],
          "name": "stdout"
        }
      ]
    },
    {
      "cell_type": "markdown",
      "metadata": {
        "id": "UjYCeuMFpWH1"
      },
      "source": [
        "### Metodo de Euler\n"
      ]
    },
    {
      "cell_type": "code",
      "metadata": {
        "id": "9ayLNcL_pk7q"
      },
      "source": [
        "def euler( x0, y, h, x, plot_graph ): \n",
        "  x_pontos = []\n",
        "  y_pontos = []    \n",
        "  while x0 < x: \n",
        "        y = y + h * dydx(x0, y) \n",
        "        y_pontos.append(y)\n",
        "        x0 = x0 + h \n",
        "        x_pontos.append(x0)\n",
        "  if(plot_graph): \n",
        "    plt.plot(x_pontos,y_pontos,'ko-')\n",
        "    plt.xlabel('x')\n",
        "    plt.ylabel('y') \n",
        "    plt.title('Euler')   \n",
        "    plt.show() \n",
        "  return y \n",
        "\n"
      ],
      "execution_count": null,
      "outputs": []
    },
    {
      "cell_type": "markdown",
      "metadata": {
        "id": "WtNlGLGplazK"
      },
      "source": [
        "### RK 2"
      ]
    },
    {
      "cell_type": "code",
      "metadata": {
        "id": "hlb8-kynTGiw"
      },
      "source": [
        "def RK2(x0, y0, x, h): \n",
        "    n = (int)((x - x0)/h)  \n",
        "    y = y0 \n",
        "    for i in range(0, n): \n",
        "        x0 = x0 + h \n",
        "        k1 =  dydx(x0, y) \n",
        "        k2 =  dydx(x0 , y + h* k1)   \n",
        "        y = y + (1.0 / 2.0)*(k1 + k2) \n",
        "    return y "
      ],
      "execution_count": null,
      "outputs": []
    },
    {
      "cell_type": "markdown",
      "metadata": {
        "id": "5jHdlUIglW1w"
      },
      "source": [
        "### RK 4\n"
      ]
    },
    {
      "cell_type": "code",
      "metadata": {
        "id": "YnI7WLx5SE_s"
      },
      "source": [
        "def RK4(x0, y0, x, h,plot_graph): \n",
        "    x_pontos = []\n",
        "    y_pontos = []    \n",
        "    n = (int)((x - x0)/h)  \n",
        "    y = y0 \n",
        "    for i in range(0, n): \n",
        "        x_pontos.append(x0)\n",
        "        x0 = x0 + h \n",
        "        k1 = h * dydx(x0, y) \n",
        "        k2 = h * dydx(x0 + 0.5 * h, y + 0.5 * k1) \n",
        "        k3 = h * dydx(x0 + 0.5 * h, y + 0.5 * k2) \n",
        "        k4 = h * dydx(x0 + h, y + k3) \n",
        "        y_pontos.append(y)\n",
        "        y = y + (1.0 / 6.0)*(k1 + 2 * k2 + 2 * k3 + k4) \n",
        "    if(plot_graph): \n",
        "      plt.plot(x_pontos,y_pontos,'ko-')\n",
        "      plt.xlabel('x')\n",
        "      plt.ylabel('y') \n",
        "      plt.title('RK4')   \n",
        "      plt.show() \n",
        "    return y \n"
      ],
      "execution_count": null,
      "outputs": []
    },
    {
      "cell_type": "markdown",
      "metadata": {
        "id": "uQW1dTs7aTte"
      },
      "source": [
        "### Lista 12\n"
      ]
    },
    {
      "cell_type": "code",
      "metadata": {
        "id": "pktLuRpoaWV0",
        "colab": {
          "base_uri": "https://localhost:8080/",
          "height": 1000
        },
        "outputId": "11265c68-d6c3-4a5c-92b2-0d0ce69d8ba6"
      },
      "source": [
        "def dydx(x, y): \n",
        "    return (2*y*((92-y)/92))\n",
        "x0 = 0\n",
        "y = 10\n",
        "x = 3\n",
        "h = 1\n",
        "print ('Questao 1:')\n",
        "print ('Número  de estudantes que após 3 horas pelo metodo RK2:', RK2(x0, y, x, h) )\n",
        "print ('Número  de estudantes que após 3 horas pelo metodo RK4:', RK4(x0, y, x, h, 0) )\n",
        "print ('Número  de estudantes que após 3 horas pelo metodo de euler:', euler( x0, y, h, x, 0 ) )\n",
        "\n",
        "def dydx(x, y): \n",
        "    return - 0.06*math.sqrt(y)\n",
        "x0 = 0\n",
        "y = 3\n",
        "x = 3\n",
        "h = 0.5\n",
        "print ('\\n\\nQuestao 2:')\n",
        "print ('Tempo necessario em minutos para esvaziar o tanque pelo metodo RK2:', RK2(x0, y, x, h) )\n",
        "print ('Tempo necessario em minutos para esvaziar o tanque pelo metodo RK4:', RK4(x0, y, x, h, 0) )\n",
        "print ('Tempo necessario em minutos para esvaziar o tanque pelo metodo de euler:', euler( x0, y, h, x,0 ) )\n",
        "\n",
        "\n",
        "def dydx(x, y): \n",
        "    return (x*(y**2))-y\n",
        "x0 = 0\n",
        "y = 1\n",
        "x = 2\n",
        "h = 0.5\n",
        "print ('\\n\\nQuestao 3: (x*(y**2))-y para o intervalo de 0 a 2 utilizando euler')\n",
        "print ('Para h = 0.5:', euler( x0, y, h, x, 1 )  )\n",
        "h = 0.25\n",
        "print ('Para h = 0.25:', euler( x0, y, h, x, 1 )  )\n",
        "\n",
        "\n",
        "print ('\\n\\nQuestao 4: (x*(y**2))-y para o intervalo de 0 a 2 utilizando RK4')\n",
        "h = 0.5\n",
        "print ('Para h = 0.5:', RK4(x0, y, x, h, 1)  )\n",
        "h = 0.25\n",
        "print ('Para h = 0.25:', RK4(x0, y, x, h,1)  )\n",
        "\n",
        "h = 0.001\n",
        "print ('Para h = 0.001: ', RK4(x0, y, x, h,1)  )\n",
        "\n"
      ],
      "execution_count": null,
      "outputs": [
        {
          "output_type": "stream",
          "text": [
            "Questao 1:\n",
            "Número  de estudantes que após 3 horas pelo metodo RK2: 73.1975374935126\n",
            "Número  de estudantes que após 3 horas pelo metodo RK4: 88.11659739027225\n",
            "Número  de estudantes que após 3 horas pelo metodo de euler: 103.37952077694278\n",
            "\n",
            "\n",
            "Questao 2:\n",
            "Tempo necessario em minutos para esvaziar o tanque pelo metodo RK2: 2.4062954291379595\n",
            "Tempo necessario em minutos para esvaziar o tanque pelo metodo RK4: 2.696330854686206\n",
            "Tempo necessario em minutos para esvaziar o tanque pelo metodo de euler: 2.695010691613068\n",
            "\n",
            "\n",
            "Questao 3: (x*(y**2))-y para o intervalo de 0 a 2 utilizando euler\n"
          ],
          "name": "stdout"
        },
        {
          "output_type": "display_data",
          "data": {
            "image/png": "[encoded data removed]",
            "text/plain": [
              "<Figure size 432x288 with 1 Axes>"
            ]
          },
          "metadata": {
            "tags": []
          }
        },
        {
          "output_type": "stream",
          "text": [
            "Para h = 0.5: 0.13408184051513672\n"
          ],
          "name": "stdout"
        },
        {
          "output_type": "display_data",
          "data": {
            "image/png": "[encoded data removed]",
            "text/plain": [
              "<Figure size 432x288 with 1 Axes>"
            ]
          },
          "metadata": {
            "tags": []
          }
        },
        {
          "output_type": "stream",
          "text": [
            "Para h = 0.25: 0.2282902955130025\n",
            "\n",
            "\n",
            "Questao 4: (x*(y**2))-y para o intervalo de 0 a 2 utilizando RK4\n"
          ],
          "name": "stdout"
        },
        {
          "output_type": "display_data",
          "data": {
            "image/png": "[encoded data removed]",
            "text/plain": [
              "<Figure size 432x288 with 1 Axes>"
            ]
          },
          "metadata": {
            "tags": []
          }
        },
        {
          "output_type": "stream",
          "text": [
            "Para h = 0.5: 19.440086462683144\n"
          ],
          "name": "stdout"
        },
        {
          "output_type": "display_data",
          "data": {
            "image/png": "[encoded data removed]",
            "text/plain": [
              "<Figure size 432x288 with 1 Axes>"
            ]
          },
          "metadata": {
            "tags": []
          }
        },
        {
          "output_type": "stream",
          "text": [
            "Para h = 0.25: 0.7129385523163528\n"
          ],
          "name": "stdout"
        },
        {
          "output_type": "display_data",
          "data": {
            "image/png": "[encoded data removed]",
            "text/plain": [
              "<Figure size 432x288 with 1 Axes>"
            ]
          },
          "metadata": {
            "tags": []
          }
        },
        {
          "output_type": "stream",
          "text": [
            "Para h = 0.001:  0.3340447435353261\n"
          ],
          "name": "stdout"
        }
      ]
    }
  ]
}