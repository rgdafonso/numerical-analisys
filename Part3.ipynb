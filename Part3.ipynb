{
  "nbformat": 4,
  "nbformat_minor": 0,
  "metadata": {
    "colab": {
      "name": "Part3.ipynb",
      "provenance": [],
      "collapsed_sections": [
        "di3KGlosQkmD",
        "6NWS5XI54lWN",
        "2bMu63kvgNho",
        "tR4EiJ8W4qDh",
        "EEarXyFaen0q",
        "Cw4_czFf46Xv",
        "JnrkRRJhm1Dt"
      ],
      "include_colab_link": true
    },
    "kernelspec": {
      "name": "python3",
      "display_name": "Python 3"
    }
  },
  "cells": [
    {
      "cell_type": "markdown",
      "metadata": {
        "id": "view-in-github",
        "colab_type": "text"
      },
      "source": [
        "<a href=\"https://colab.research.google.com/github/rgdafonso/numerical-analisys/blob/main/Part3.ipynb\" target=\"_parent\"><img src=\"https://colab.research.google.com/assets/colab-badge.svg\" alt=\"Open In Colab\"/></a>"
      ]
    },
    {
      "cell_type": "markdown",
      "metadata": {
        "id": "3FbIfykcgREf"
      },
      "source": [
        "## Trabalho 3\n",
        "#### Roger Afonso"
      ]
    },
    {
      "cell_type": "markdown",
      "metadata": {
        "id": "di3KGlosQkmD"
      },
      "source": [
        "### Imports"
      ]
    },
    {
      "cell_type": "code",
      "metadata": {
        "id": "puvkMeSQQ--C"
      },
      "source": [
        "import math\n",
        "import matplotlib.pyplot as plt\n",
        "import numpy as np\n",
        "from sympy import *"
      ],
      "execution_count": null,
      "outputs": []
    },
    {
      "cell_type": "markdown",
      "metadata": {
        "id": "6NWS5XI54lWN"
      },
      "source": [
        "### Lagrange & Newton\n"
      ]
    },
    {
      "cell_type": "code",
      "metadata": {
        "id": "MeSPvJxgRJEu"
      },
      "source": [
        "def lagrange(x, y, z):\n",
        "  m = len(x)\n",
        "  r=0\n",
        "  for i in range(0, m):\n",
        "    c = 1\n",
        "    d = 1\n",
        "    for j in range(0, m):\n",
        "      if (i != j):\n",
        "        c = c*(z-x[j])\n",
        "        d = d*(x[i]- x[j])\n",
        "    r = r + y[i] * c / d\n",
        "  return r"
      ],
      "execution_count": null,
      "outputs": []
    },
    {
      "cell_type": "code",
      "metadata": {
        "id": "bwcLd_V_Sunt"
      },
      "source": [
        "def newton(x, y, z):\n",
        "  r = 0\n",
        "  m = len(x)\n",
        "  f_x = []\n",
        "  \n",
        "  for i in range(m):\n",
        "    f_x.append(y[i])\n",
        "    \n",
        "  for k in range(1, m):\n",
        "    for i in range(m,k, -1):\n",
        "      f_x[i-1] = (f_x[i-1] - f_x[i-2])/ (x[i-1] - x[i-k-1])\n",
        "  r = f_x[m-1]\n",
        "  \n",
        "  for i in range(m - 1,0,-1):\n",
        "    r= r*(z - x[i - 1])+ f_x[i - 1]\n",
        "  return r"
      ],
      "execution_count": null,
      "outputs": []
    },
    {
      "cell_type": "markdown",
      "metadata": {
        "id": "2bMu63kvgNho"
      },
      "source": [
        "## Lista 8"
      ]
    },
    {
      "cell_type": "code",
      "metadata": {
        "id": "FEkPTO-5VyJg",
        "outputId": "ebf647d1-5692-45ce-a7f3-55cd597c4a0c",
        "colab": {
          "base_uri": "https://localhost:8080/",
          "height": 173
        }
      },
      "source": [
        "print(\"Questão 1 - Newton:\\na)\")\n",
        "print(\"1950: \", newton([1960,1970,1980,1990,2000,2010],[179323,203302,226542,249633,281422,308746],1950))\n",
        "print(\"1975: \", newton([1960,1970,1980,1990,2000,2010],[179323,203302,226542,249633,281422,308746],1975))\n",
        "print(\"2014: \", newton([1960,1970,1980,1990,2000,2010],[179323,203302,226542,249633,281422,308746],2014))\n",
        "print(\"2020: \" ,newton([1960,1970,1980,1990,2000,2010],[179323,203302,226542,249633,281422,308746],2020))\n",
        "# Res: 1950 ->192.539.000 //1975-> -215.52714// 2014-> 306.214.882 // 2020 -> 266.165.000\n",
        "\n",
        "print(\"\\n2) \")\n",
        "print(newton([1.25, 0.25, 0.5, 1],[119.4, 25.2, 49.2, 96.4],0.75), \"segundos\")\n",
        "\n"
      ],
      "execution_count": null,
      "outputs": [
        {
          "output_type": "stream",
          "text": [
            "Questão 1 - Newton:\n",
            "a)\n",
            "1950:  192539.0\n",
            "1975:  215525.71484375\n",
            "2014:  306214.887616\n",
            "2020:  266165.0\n",
            "\n",
            "2) \n",
            "72.96666666666667 segundos\n"
          ],
          "name": "stdout"
        }
      ]
    },
    {
      "cell_type": "code",
      "metadata": {
        "id": "_4l1gZgsfg3f",
        "outputId": "db21b9aa-76bb-4a0b-b075-689f994ee4c8",
        "colab": {
          "base_uri": "https://localhost:8080/",
          "height": 399
        }
      },
      "source": [
        "print(\"Questão 2 - Lagrange:\\na)\")\n",
        "print(\"1950: \", lagrange([1960,1970,1980,1990,2000,2010],[179323,203302,226542,249633,281422,308746],1950))\n",
        "print(\"1975: \", lagrange([1960,1970,1980,1990,2000,2010],[179323,203302,226542,249633,281422,308746],1975))\n",
        "print(\"2014: \", lagrange([1960,1970,1980,1990,2000,2010],[179323,203302,226542,249633,281422,308746],2014))\n",
        "print(\"2020: \" ,lagrange([1960,1970,1980,1990,2000,2010],[179323,203302,226542,249633,281422,308746],2020))\n",
        "\n",
        "print(\"\\n2) \")\n",
        "print(\"Amostra 1 \")\n",
        "print(\"Valor de interpolação = 5: \" ,lagrange([0,6,10,13,17,20,28],[6.67, 17.33, 42.67, 37.33, 30.10, 29.31, 28.74], 5))\n",
        "print(\"Valor de interpolação = 8: \" ,lagrange([0,6,10,13,17,20,28],[6.67, 17.33, 42.67, 37.33, 30.10, 29.31, 28.74], 8))\n",
        "print(\"Valor de interpolação = 11.5: \" ,lagrange([0,6,10,13,17,20,28],[6.67, 17.33, 42.67, 37.33, 30.10, 29.31, 28.74],11.5))\n",
        "print(\"Valor de interpolação = 15: \" ,lagrange([0,6,10,13,17,20,28],[6.67, 17.33, 42.67, 37.33, 30.10, 29.31, 28.74], 15))\n",
        "print(\"Valor de interpolação = 18.5: \" ,lagrange([0,6,10,13,17,20,28],[6.67, 17.33, 42.67, 37.33, 30.10, 29.31, 28.74],18.5))\n",
        "print(\"Valor de interpolação = 24: \" ,lagrange([0,6,10,13,17,20,28],[6.67, 17.33, 42.67, 37.33, 30.10, 29.31, 28.74], 24))\n",
        "\n",
        "print(\"Amostra 2 \")\n",
        "print(\"Valor de interpolação = 3: \" ,lagrange([0,6,10,13,17,20,28],   [6.67, 16.11, 18.89, 15, 10.56, 9.44, 8.89], 3))\n",
        "print(\"Valor de interpolação = 8: \" ,lagrange([0,6,10,13,17,20,28],   [6.67, 16.11, 18.89, 15, 10.56, 9.44, 8.89], 8))\n",
        "print(\"Valor de interpolação = 11.5: \" ,lagrange([0,6,10,13,17,20,28],[6.67, 16.11, 18.89, 15, 10.56, 9.44, 8.89],11.5))\n",
        "print(\"Valor de interpolação = 15: \" ,lagrange([0,6,10,13,17,20,28],  [6.67, 16.11, 18.89, 15, 10.56, 9.44, 8.89], 15))\n",
        "print(\"Valor de interpolação = 18.5: \" ,lagrange([0,6,10,13,17,20,28],[6.67, 16.11, 18.89, 15, 10.56, 9.44, 8.89],18.5))\n",
        "print(\"Valor de interpolação = 24: \" ,lagrange([0,6,10,13,17,20,28],  [6.67, 16.11, 18.89, 15, 10.56, 9.44, 8.89], 24))"
      ],
      "execution_count": null,
      "outputs": [
        {
          "output_type": "stream",
          "text": [
            "Questão 2 - Lagrange:\n",
            "a)\n",
            "1950:  192539.0\n",
            "1975:  215525.71484375\n",
            "2014:  306214.887616\n",
            "2020:  266165.0\n",
            "\n",
            "2) \n",
            "Amostra 1 \n",
            "Valor de interpolação = 5:  3.6705762832787228\n",
            "Valor de interpolação = 8:  36.41347843905522\n",
            "Valor de interpolação = 11.5:  41.19547441664316\n",
            "Valor de interpolação = 15:  32.37224311522129\n",
            "Valor de interpolação = 18.5:  29.82970432579651\n",
            "Valor de interpolação = 24:  16.95705898807071\n",
            "Amostra 2 \n",
            "Valor de interpolação = 3:  6.5944683063149006\n",
            "Valor de interpolação = 8:  19.177622789738905\n",
            "Valor de interpolação = 11.5:  17.196222017702816\n",
            "Valor de interpolação = 15:  12.302510073244175\n",
            "Valor de interpolação = 18.5:  9.879973794051466\n",
            "Valor de interpolação = 24:  7.019812751953921\n"
          ],
          "name": "stdout"
        }
      ]
    },
    {
      "cell_type": "markdown",
      "metadata": {
        "id": "tR4EiJ8W4qDh"
      },
      "source": [
        "## Spline\n"
      ]
    },
    {
      "cell_type": "code",
      "metadata": {
        "id": "MYqOfRcoJqMb"
      },
      "source": [
        "def spline_cubico(x0, x, y):\n",
        "    x = np.asfarray(x)\n",
        "    y = np.asfarray(y)\n",
        "    if np.any(np.diff(x) < 0):\n",
        "        indexes = np.argsort(x)\n",
        "        x = x[indexes]\n",
        "        y = y[indexes]\n",
        "    size = len(x)\n",
        "    xdiff = np.diff(x)\n",
        "    ydiff = np.diff(y)\n",
        "    Li = np.empty(size)\n",
        "    Li_1 = np.empty(size-1)\n",
        "    z = np.empty(size)\n",
        "    #####################################\n",
        "    Li[0] = sqrt(2*xdiff[0])\n",
        "    Li_1[0] = 0.0\n",
        "    B0 = 0.0\n",
        "    z[0] = B0 / Li[0]\n",
        "    for i in range(1, size-1, 1):\n",
        "        Li_1[i] = xdiff[i-1] / Li[i-1]\n",
        "        Li[i] = sqrt(2*(xdiff[i-1]+xdiff[i]) - Li_1[i-1] * Li_1[i-1])\n",
        "        Bi = 6*(ydiff[i]/xdiff[i] - ydiff[i-1]/xdiff[i-1])\n",
        "        z[i] = (Bi - Li_1[i-1]*z[i-1])/Li[i]\n",
        "    i = size - 1\n",
        "    Li_1[i-1] = xdiff[-1] / Li[i-1]\n",
        "    Li[i] = sqrt(2*xdiff[-1] - Li_1[i-1] * Li_1[i-1])\n",
        "    Bi = 0.0 \n",
        "    z[i] = (Bi - Li_1[i-1]*z[i-1])/Li[i]\n",
        "    #####################################\n",
        "    i = size-1\n",
        "    z[i] = z[i] / Li[i]\n",
        "    for i in range(size-2, -1, -1):\n",
        "        z[i] = (z[i] - Li_1[i-1]*z[i+1])/Li[i]\n",
        "    index = x.searchsorted(x0)\n",
        "    np.clip(index, 1, size-1, index)\n",
        "    xi1, xi0 = x[index], x[index-1]\n",
        "    yi1, yi0 = y[index], y[index-1]\n",
        "    zi1, zi0 = z[index], z[index-1]\n",
        "    hi1 = xi1 - xi0\n",
        "    f0 = zi0/(6*hi1)*(xi1-x0)**3 + \\\n",
        "         zi1/(6*hi1)*(x0-xi0)**3 + \\\n",
        "         (yi1/hi1 - zi1*hi1/6)*(x0-xi0) + \\\n",
        "         (yi0/hi1 - zi0*hi1/6)*(xi1-x0)\n",
        "    return f0"
      ],
      "execution_count": null,
      "outputs": []
    },
    {
      "cell_type": "markdown",
      "metadata": {
        "id": "EEarXyFaen0q"
      },
      "source": [
        "## Lista 9"
      ]
    },
    {
      "cell_type": "code",
      "metadata": {
        "id": "Flp7Y3YMew6X",
        "outputId": "991ef638-77fd-46d2-9a8b-28758bce0c01",
        "colab": {
          "base_uri": "https://localhost:8080/",
          "height": 1000
        }
      },
      "source": [
        "print(\"Questão 1 e 2:\\na)\")\n",
        "x = [8.3 , 8.6]\n",
        "y = [17.56492 , 18.50515]\n",
        "x0 = [8.4]\n",
        "print(\"Valor de interpolção: \", spline_cubico(x0, x, y))\n",
        "x = np.linspace(0.1,10,100)\n",
        "f_x = x*np.log(x)\n",
        "plt.plot(x, f_x)\n",
        "plt.plot(x0, x0*np.log(x0), 'rs')\n",
        "plt.show()\n",
        "\n",
        "\n",
        "print(\"b)\")\n",
        "x = [0.8 , 1]\n",
        "y = [0.22363362 , 0.65809197]\n",
        "x0 = [0.9]\n",
        "print(\"Valor de interpolção: \",spline_cubico(x0, x, y))\n",
        "x = np.linspace(0.1,1,15)\n",
        "f_x = np.sin(np.exp(x)-2)\n",
        "plt.plot(x, f_x)\n",
        "plt.plot(x0, np.sin(np.exp(x0)-2), 'rs')\n",
        "plt.show()\n",
        "\n",
        "\n",
        "\n",
        "print(\"c)\")\n",
        "x = [-0.5, -0.25, 0]\n",
        "y = [0.0247500, 0.3349375, 1.1010]\n",
        "x0 = [-1/3]\n",
        "print(\"Valor de interpolção: \",spline_cubico(x0, x, y))\n",
        "x = np.linspace(-1,1,100)\n",
        "f_x = x**3 + 4.001*x**2 + 4.002*x + 1.101\n",
        "plt.plot(x, f_x)\n",
        "plt.plot(x0,(-1/3)**3 + 4.001*(-1/3)**2 + 4.002*(-1/3) + 1.101, 'rs')\n",
        "plt.show()\n",
        "\n",
        "\n",
        "\n",
        "print(\"d)\")\n",
        "x = [0.1, 0.2, 0.3, 0.4]\n",
        "y = [-0.62049958, -0.28398668, -0.00660095, 0.24842440]\n",
        "x0 = [0.25]\n",
        "print(\"Valor de interpolção: \",spline_cubico(x0, x, y))\n",
        "x = np.linspace(0,1,100)\n",
        "f_x = x* np.cos(x) - 2*x**2 +3*x -1\n",
        "plt.plot(x, f_x)\n",
        "plt.plot(x0, 0.25* np.cos(0.25) - 2*0.25**2 +3*0.25 -1, 'rs')\n",
        "plt.show()"
      ],
      "execution_count": null,
      "outputs": [
        {
          "output_type": "stream",
          "text": [
            "Questão 1 e 2:\n",
            "a)\n",
            "Valor de interpolção:  [17.87833]\n"
          ],
          "name": "stdout"
        },
        {
          "output_type": "display_data",
          "data": {
            "image/png": "[encoded data removed]",
            "text/plain": [
              "<Figure size 432x288 with 1 Axes>"
            ]
          },
          "metadata": {
            "tags": []
          }
        },
        {
          "output_type": "stream",
          "text": [
            "b)\n",
            "Valor de interpolção:  [0.44086279]\n"
          ],
          "name": "stdout"
        },
        {
          "output_type": "display_data",
          "data": {
            "image/png": "[encoded data removed]",
            "text/plain": [
              "<Figure size 432x288 with 1 Axes>"
            ]
          },
          "metadata": {
            "tags": []
          }
        },
        {
          "output_type": "stream",
          "text": [
            "c)\n",
            "Valor de interpolção:  [0.20126999]\n"
          ],
          "name": "stdout"
        },
        {
          "output_type": "display_data",
          "data": {
            "image/png": "[encoded data removed]",
            "text/plain": [
              "<Figure size 432x288 with 1 Axes>"
            ]
          },
          "metadata": {
            "tags": []
          }
        },
        {
          "output_type": "stream",
          "text": [
            "d)\n",
            "Valor de interpolção:  [-0.13956028]\n"
          ],
          "name": "stdout"
        },
        {
          "output_type": "display_data",
          "data": {
            "image/png": "[encoded data removed]",
            "text/plain": [
              "<Figure size 432x288 with 1 Axes>"
            ]
          },
          "metadata": {
            "tags": []
          }
        }
      ]
    },
    {
      "cell_type": "markdown",
      "metadata": {
        "id": "Cw4_czFf46Xv"
      },
      "source": [
        "## MMQ\n"
      ]
    },
    {
      "cell_type": "code",
      "metadata": {
        "id": "cGpqpjBoDpMf"
      },
      "source": [
        "def mmq(x, y): \n",
        "    n = np.size(x) \n",
        "    m_x, m_y = np.mean(x), np.mean(y) \n",
        "    SS_xy = np.sum(y*x) - n*m_y*m_x \n",
        "    SS_xx = np.sum(x*x) - n*m_x*m_x \n",
        "    b_1 = SS_xy / SS_xx \n",
        "    b_0 = m_y - b_1*m_x   \n",
        "    return(b_0, b_1) \n",
        "  \n",
        "def plot_reta(x, y, b): \n",
        "    plt.scatter(x, y, color = \"m\", \n",
        "               marker = \"o\", s = 30) \n",
        "    #eq. da reta\n",
        "    y_pred = b[0] + b[1]*x\n",
        "    plt.plot(x, y_pred, color = \"g\") \n",
        "    plt.xlabel('x') \n",
        "    plt.ylabel('y') \n",
        "    plt.show() \n",
        "  \n"
      ],
      "execution_count": null,
      "outputs": []
    },
    {
      "cell_type": "markdown",
      "metadata": {
        "id": "JnrkRRJhm1Dt"
      },
      "source": [
        "## Lista 10"
      ]
    },
    {
      "cell_type": "code",
      "metadata": {
        "id": "XEC1qJtmm7QB",
        "outputId": "4163ab8b-b228-4602-bc99-a80cfe450060",
        "colab": {
          "base_uri": "https://localhost:8080/",
          "height": 1000
        }
      },
      "source": [
        "print(\"Questão 1\")\n",
        "\n",
        "x = np.array([1, 3, 4, 6, 9, 12]) \n",
        "print(\"Para A = 15\")\n",
        "y = np.array([20, 7.5, 6.5, 7, 10, 15]) \n",
        "b = mmq(x, y) \n",
        "print(\"Valores estimados: \\na1 = \",b[0],\" \\na2 = \", b[1]) \n",
        "plot_reta(x, y, b) \n",
        "###########################################################\n",
        "print(\"Para A = 20\")\n",
        "y = np.array([20, 7.5, 6.5, 7, 10, 20]) \n",
        "b = mmq(x, y) \n",
        "print(\"Valores estimados: \\na1 = \",b[0],\" \\na2 = \", b[1]) \n",
        "plot_reta(x, y, b) \n",
        "###########################################################\n",
        "print(\"Para A = 25\")\n",
        "y = np.array([20, 7.5, 6.5, 7, 10, 25]) \n",
        "b = mmq(x, y) \n",
        "print(\"Valores estimados: \\na1 = \",b[0],\" \\na2 = \", b[1]) \n",
        "plot_reta(x, y, b) \n",
        "print(\"--------------------------------------------------------------\")\n",
        "print(\"Questão 2\")\n",
        "x = np.array([28,25,28,27,28,33,28,29,23,27, 29,28,27,29,21,28,28,26,30,24]) \n",
        "y = np.array([3.84,3.21,3.23,3.63,3.75,3.2,3.41,3.38,3.53,2.03, 3.75,3.65,3.87,3.75,1.66,3.12,2.96,2.92,3.1,2.81]) \n",
        "b = mmq(x, y) \n",
        "print(\"Equação da reta: \", b[0], \"+(\", b[1],\")x\")  \n",
        "plot_reta(x, y, b) \n",
        "\n",
        "print(\"--------------------------------------------------------------\")\n",
        "print(\"Questão 3\")\n",
        "\n",
        "x = np.array([13,15,16,21,22,23,25,29,30,31,36,40,42,55,60,62,64,70,72,100,130])\n",
        "y = np.array([11,10,11,12,12,13,13,12,14,16,17,13,14,22,14,21,21,24,17,23,34])\n",
        "\n",
        "b = mmq(x, y) \n",
        "print(\"Equação da reta: \", b[0], \"+(\", b[1],\")x\")  \n",
        "plot_reta(x, y, b) \n"
      ],
      "execution_count": null,
      "outputs": [
        {
          "output_type": "stream",
          "text": [
            "Questão 1\n",
            "Para A = 15\n",
            "Valores estimados: \n",
            "a1 =  11.316901408450704  \n",
            "a2 =  -0.054325955734406434\n"
          ],
          "name": "stdout"
        },
        {
          "output_type": "display_data",
          "data": {
            "image/png": "[encoded data removed]",
            "text/plain": [
              "<Figure size 432x288 with 1 Axes>"
            ]
          },
          "metadata": {
            "tags": []
          }
        },
        {
          "output_type": "stream",
          "text": [
            "Para A = 20\n",
            "Valores estimados: \n",
            "a1 =  9.978873239436618  \n",
            "a2 =  0.31790744466800847\n"
          ],
          "name": "stdout"
        },
        {
          "output_type": "display_data",
          "data": {
            "image/png": "[encoded data removed]",
            "text/plain": [
              "<Figure size 432x288 with 1 Axes>"
            ]
          },
          "metadata": {
            "tags": []
          }
        },
        {
          "output_type": "stream",
          "text": [
            "Para A = 25\n",
            "Valores estimados: \n",
            "a1 =  8.640845070422534  \n",
            "a2 =  0.6901408450704227\n"
          ],
          "name": "stdout"
        },
        {
          "output_type": "display_data",
          "data": {
            "image/png": "[encoded data removed]",
            "text/plain": [
              "<Figure size 432x288 with 1 Axes>"
            ]
          },
          "metadata": {
            "tags": []
          }
        },
        {
          "output_type": "stream",
          "text": [
            "--------------------------------------------------------------\n",
            "Questão 2\n",
            "Equação da reta:  0.4865756630264353 +( 0.10085803432137598 )x\n"
          ],
          "name": "stdout"
        },
        {
          "output_type": "display_data",
          "data": {
            "image/png": "[encoded data removed]",
            "text/plain": [
              "<Figure size 432x288 with 1 Axes>"
            ]
          },
          "metadata": {
            "tags": []
          }
        },
        {
          "output_type": "stream",
          "text": [
            "--------------------------------------------------------------\n",
            "Questão 3\n",
            "Equação da reta:  8.208407795975862 +( 0.17952242289174355 )x\n"
          ],
          "name": "stdout"
        },
        {
          "output_type": "display_data",
          "data": {
            "image/png": "[encoded data removed]",
            "text/plain": [
              "<Figure size 432x288 with 1 Axes>"
            ]
          },
          "metadata": {
            "tags": []
          }
        }
      ]
    }
  ]
}